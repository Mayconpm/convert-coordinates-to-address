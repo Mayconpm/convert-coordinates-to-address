{
 "cells": [
  {
   "cell_type": "markdown",
   "metadata": {},
   "source": [
    "## **E**xtract\n",
    "\n",
    "Extract a list of place IDs and their coordinates from an Excel file."
   ]
  },
  {
   "cell_type": "code",
   "execution_count": 16,
   "metadata": {},
   "outputs": [],
   "source": [
    "import yaml\n",
    "with open('data.yml') as yaml_file:\n",
    "    data = yaml.safe_load(yaml_file)\n",
    "    \n",
    "FILENAME = data['filename']\n",
    "TARGET_SHEET = data['sheet']\n",
    "GOOGLE_API_KEY = data['google_api_key']"
   ]
  },
  {
   "cell_type": "code",
   "execution_count": 17,
   "metadata": {},
   "outputs": [
    {
     "name": "stdout",
     "output_type": "stream",
     "text": [
      "Cadastro de Unidades - CANF.xlsx\n"
     ]
    }
   ],
   "source": [
    "import pandas as pd\n",
    "df_registros = pd.read_excel(FILENAME, sheet_name=TARGET_SHEET, header=2, index_col=0)\n"
   ]
  }
 ],
 "metadata": {
  "kernelspec": {
   "display_name": "100-Days-of-Code",
   "language": "python",
   "name": "python3"
  },
  "language_info": {
   "codemirror_mode": {
    "name": "ipython",
    "version": 3
   },
   "file_extension": ".py",
   "mimetype": "text/x-python",
   "name": "python",
   "nbconvert_exporter": "python",
   "pygments_lexer": "ipython3",
   "version": "3.11.4"
  },
  "orig_nbformat": 4
 },
 "nbformat": 4,
 "nbformat_minor": 2
}
