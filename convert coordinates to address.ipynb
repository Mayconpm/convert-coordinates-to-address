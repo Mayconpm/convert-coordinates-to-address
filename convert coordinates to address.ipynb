{
 "cells": [
  {
   "cell_type": "markdown",
   "metadata": {},
   "source": [
    "## **E**xtract\n",
    "\n",
    "Extract a list of place IDs and their coordinates from an Excel file."
   ]
  },
  {
   "cell_type": "code",
   "execution_count": 1,
   "metadata": {},
   "outputs": [],
   "source": [
    "import yaml\n",
    "with open('data.yml') as yaml_file:\n",
    "    data = yaml.safe_load(yaml_file)\n",
    "    \n",
    "FILENAME = data['filename']\n",
    "TARGET_SHEET = data['sheet']\n",
    "GOOGLE_API_KEY = data['google_api_key']"
   ]
  },
  {
   "cell_type": "code",
   "execution_count": null,
   "metadata": {},
   "outputs": [],
   "source": [
    "import pandas as pd\n",
    "df_registros = pd.read_excel(FILENAME, sheet_name=TARGET_SHEET, header=2, index_col=0)\n",
    "df_registros['Latitude'] = df_registros['Latitude'].str.replace('--','-')\n",
    "df_registros['Longitude'] = df_registros['Longitude'].str.replace(',','')"
   ]
  },
  {
   "cell_type": "code",
   "execution_count": 3,
   "metadata": {},
   "outputs": [],
   "source": [
    "coordenadas = df_registros[[\"Latitude\", \"Longitude\"]].agg(\",\".join, axis=1)"
   ]
  },
  {
   "cell_type": "markdown",
   "metadata": {},
   "source": [
    "## **T**ransform\n",
    "\n"
   ]
  },
  {
   "cell_type": "markdown",
   "metadata": {},
   "source": [
    "### Google API"
   ]
  },
  {
   "cell_type": "code",
   "execution_count": 4,
   "metadata": {},
   "outputs": [],
   "source": [
    "# from geopy.geocoders import GoogleV3\n",
    "# geolocator = GoogleV3(api_key = GOOGLE_API_KEY)\n",
    "# df_localizacao = coordenadas.apply(geolocator.reverse)\n",
    "# df_localizacao.head()"
   ]
  },
  {
   "cell_type": "markdown",
   "metadata": {},
   "source": [
    "### Nominatim API"
   ]
  },
  {
   "cell_type": "code",
   "execution_count": 10,
   "metadata": {},
   "outputs": [],
   "source": [
    "from geopy.geocoders import Nominatim\n",
    "from geopy.point import Point\n",
    "import numpy as np\n",
    "geolocator = Nominatim(user_agent=\"GPSregistros\", timeout=200)\n",
    "\n",
    "\n",
    "def reverse_geocoding(lat, lon):\n",
    "    try:\n",
    "        location = geolocator.reverse(Point(lat, lon))\n",
    "        return location.raw['display_name']\n",
    "    except:\n",
    "        return None\n",
    "\n",
    "\n",
    "df_localizacao = np.vectorize(reverse_geocoding)(df_registros['Latitude'], df_registros['Longitude'])\n",
    "\n",
    "df_localizacao.head()\n"
   ]
  },
  {
   "cell_type": "markdown",
   "metadata": {},
   "source": [
    "## **L**oad"
   ]
  }
 ],
 "metadata": {
  "kernelspec": {
   "display_name": "100-Days-of-Code",
   "language": "python",
   "name": "python3"
  },
  "language_info": {
   "codemirror_mode": {
    "name": "ipython",
    "version": 3
   },
   "file_extension": ".py",
   "mimetype": "text/x-python",
   "name": "python",
   "nbconvert_exporter": "python",
   "pygments_lexer": "ipython3",
   "version": "3.11.4"
  },
  "orig_nbformat": 4
 },
 "nbformat": 4,
 "nbformat_minor": 2
}
